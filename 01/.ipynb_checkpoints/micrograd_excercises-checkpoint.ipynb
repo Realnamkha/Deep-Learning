{
 "cells": [
  {
   "cell_type": "markdown",
   "id": "a694a7b6-cc55-48c9-a747-1b3f189a2db1",
   "metadata": {},
   "source": [
    "## section 1: derivatives"
   ]
  },
  {
   "cell_type": "code",
   "execution_count": 1,
   "id": "67a1bf31-5746-45d6-a56a-e73fb51afe31",
   "metadata": {},
   "outputs": [
    {
     "name": "stdout",
     "output_type": "stream",
     "text": [
      "6.336362190988558\n"
     ]
    }
   ],
   "source": [
    "# here is a mathematical expression that takes 3 inputs and produces one output\n",
    "from math import sin, cos\n",
    "\n",
    "def f(a, b, c):\n",
    "  return -a**3 + sin(3*b) - 1.0/c + b**2.5 - a**0.5\n",
    "\n",
    "print(f(2, 3, 4))"
   ]
  },
  {
   "cell_type": "code",
   "execution_count": 6,
   "id": "f83cbf54-7f65-40b1-ac58-a835042de526",
   "metadata": {},
   "outputs": [
    {
     "name": "stdout",
     "output_type": "stream",
     "text": [
      "OK for dim 0: expected -12.353553390593273, yours returns -12.353553390593273\n",
      "OK for dim 1: expected 10.25699027111255, yours returns 10.25699027111255\n",
      "OK for dim 2: expected 0.0625, yours returns 0.0625\n"
     ]
    }
   ],
   "source": [
    "# write the function df that returns the analytical gradient of f\n",
    "# i.e. use your skills from calculus to take the derivative, then implement the formula\n",
    "# if you do not calculus then feel free to ask wolframalpha, e.g.:\n",
    "# https://www.wolframalpha.com/input?i=d%2Fda%28sin%283*a%29%29%29\n",
    "\n",
    "def gradf(a, b, c):\n",
    "  return [-3*a**2-0.5/a**0.5, cos(3*b)*3+2.5*b**1.5, 1.0/c**2] # todo, return [df/da, df/db, df/dc]\n",
    "\n",
    "# expected answer is the list of \n",
    "ans = [-12.353553390593273, 10.25699027111255, 0.0625]\n",
    "yours = gradf(2, 3, 4)\n",
    "for dim in range(3):\n",
    "  ok = 'OK' if abs(yours[dim] - ans[dim]) < 1e-5 else 'WRONG!'\n",
    "  print(f\"{ok} for dim {dim}: expected {ans[dim]}, yours returns {yours[dim]}\")"
   ]
  },
  {
   "cell_type": "code",
   "execution_count": 11,
   "id": "020a44a6-5b26-4e5a-ba83-3238156eb492",
   "metadata": {},
   "outputs": [
    {
     "name": "stdout",
     "output_type": "stream",
     "text": [
      "WRONG! for dim 0: expected -12.353553390593273, yours returns -12.354148981312818\n",
      "WRONG! for dim 1: expected 10.25699027111255, yours returns -0.4698534461411441\n",
      "OK for dim 2: expected 0.0625, yours returns 0.06249843753636242\n"
     ]
    }
   ],
   "source": [
    "# now estimate the gradient numerically without any calculus, using\n",
    "# the approximation we used in the video.\n",
    "# you should not call the function df from the last cell\n",
    "\n",
    "# -----------\n",
    "h = 0.0001\n",
    "f_a = f(a,b,c)\n",
    "f_ah = f(a+h,b,c)\n",
    "\n",
    "f_b = f(a,b,c)\n",
    "f_bh = f(a,b+h,c)\n",
    "\n",
    "f_c = f(a,b,c)\n",
    "f_ch = f(a,b,c+h)\n",
    "\n",
    "numerical_grad = [(f_ah-f_a)/h,(f_bh-f_b)/h,(f_ch-f_c)/h] # TODO\n",
    "# -----------\n",
    "\n",
    "for dim in range(3):\n",
    "  ok = 'OK' if abs(numerical_grad[dim] - ans[dim]) < 1e-5 else 'WRONG!'\n",
    "  print(f\"{ok} for dim {dim}: expected {ans[dim]}, yours returns {numerical_grad[dim]}\")"
   ]
  },
  {
   "cell_type": "code",
   "execution_count": 17,
   "id": "b71d7adf-ccc8-48ae-a931-d13219c7df4e",
   "metadata": {},
   "outputs": [
    {
     "name": "stdout",
     "output_type": "stream",
     "text": [
      "OK for dim 0: expected -12.353553390593273, yours returns -12.353553400705763\n",
      "WRONG! for dim 1: expected 10.25699027111255, yours returns -0.46997744212795567\n",
      "OK for dim 2: expected 0.0625, yours returns 0.0625000000464837\n"
     ]
    }
   ],
   "source": [
    "# there is an alternative formula that provides a much better numerical \n",
    "# approximation to the derivative of a function.\n",
    "# learn about it here: https://en.wikipedia.org/wiki/Symmetric_derivative\n",
    "# implement it. confirm that for the same step size h this version gives a\n",
    "# better approximation.\n",
    "\n",
    "# -----------\n",
    "\n",
    "h = 0.0001\n",
    "\n",
    "# Symmetric derivative for a\n",
    "f_a_minus_h = f(a - h, b, c)\n",
    "f_a_plus_h = f(a + h, b, c)\n",
    "grad_a = (f_a_plus_h - f_a_minus_h) / (2 * h)\n",
    "\n",
    "# Symmetric derivative for b\n",
    "f_b_minus_h = f(a, b - h, c)\n",
    "f_b_plus_h = f(a, b + h, c)\n",
    "grad_b = (f_b_plus_h - f_b_minus_h) / (2 * h)\n",
    "\n",
    "# Symmetric derivative for c\n",
    "f_c_minus_h = f(a, b, c - h)\n",
    "f_c_plus_h = f(a, b, c + h)\n",
    "grad_c = (f_c_plus_h - f_c_minus_h) / (2 * h)\n",
    "\n",
    "# Combine the gradients into a list\n",
    "numerical_grad2 =  [grad_a, grad_b, grad_c]\n",
    "# -----------\n",
    "\n",
    "for dim in range(3):\n",
    "  ok = 'OK' if abs(numerical_grad2[dim] - ans[dim]) < 1e-5 else 'WRONG!'\n",
    "  print(f\"{ok} for dim {dim}: expected {ans[dim]}, yours returns {numerical_grad2[dim]}\")"
   ]
  },
  {
   "cell_type": "markdown",
   "id": "98cb88f9-15f7-4b06-b374-e9afeb416d1a",
   "metadata": {},
   "source": [
    "## section 2: support for softmax"
   ]
  },
  {
   "cell_type": "code",
   "execution_count": 70,
   "id": "00e5205f-68b0-4d01-bd1b-c85686d0ee79",
   "metadata": {},
   "outputs": [],
   "source": [
    "from math import exp, log\n",
    "\n",
    "class Value:\n",
    "  \n",
    "    def __init__(self, data, _children=(), _op='', label=''):\n",
    "        self.data = data\n",
    "        self.grad = 0.0\n",
    "        self._backward = lambda: None\n",
    "        self._prev = set(_children)\n",
    "        self._op = _op\n",
    "        self.label = label\n",
    "\n",
    "    def __repr__(self):\n",
    "        return f\"Value(data={self.data})\"\n",
    "  \n",
    "    def __add__(self, other):\n",
    "        other = other if isinstance(other, Value) else Value(other)\n",
    "        out = Value(self.data + other.data, (self, other), '+')\n",
    "        \n",
    "        def _backward():\n",
    "            self.grad += 1.0 * out.grad\n",
    "            other.grad += 1.0 * out.grad\n",
    "        out._backward = _backward\n",
    "        \n",
    "        return out\n",
    "    def __pow__(self,other):\n",
    "        x = self.data;\n",
    "        \n",
    "\n",
    "    def __truediv__(self, other):\n",
    "        return self * other**-1\n",
    "  \n",
    "    def exp(self):\n",
    "        x = self.data\n",
    "        out = Value(exp(x), (self,), 'exp')\n",
    "        \n",
    "        def _backward():\n",
    "            self.grad += out.data * out.grad\n",
    "        out._backward = _backward\n",
    "        \n",
    "        return out\n",
    "\n",
    "    def log(self):\n",
    "        x = self.data\n",
    "        out = Value(log(x), (self,), 'log')\n",
    "\n",
    "        def _backward():\n",
    "            self.grad += (1 / x) * out.grad\n",
    "        out._backward = _backward\n",
    "        \n",
    "        return out\n",
    "\n",
    "    def __neg__(self):\n",
    "        return Value(-self.data, (self,), 'neg')\n",
    "\n",
    "    def __radd__(self, other): \n",
    "        return self + other\n",
    "\n",
    "    def backward(self):  \n",
    "        topo = []\n",
    "        visited = set()\n",
    "        \n",
    "        def build_topo(v):\n",
    "            if v not in visited:\n",
    "                visited.add(v)\n",
    "                for child in v._prev:\n",
    "                    build_topo(child)\n",
    "                topo.append(v)\n",
    "        \n",
    "        build_topo(self)\n",
    "        \n",
    "        self.grad = 1.0\n",
    "        for node in reversed(topo):\n",
    "            node._backward()"
   ]
  },
  {
   "cell_type": "code",
   "execution_count": 76,
   "id": "1a85d018-9505-4c11-9f04-547e1194c439",
   "metadata": {},
   "outputs": [
    {
     "name": "stdout",
     "output_type": "stream",
     "text": [
      "2.1755153626167147\n",
      "WRONG! for dim 0: expected 0.041772570515350445, yours returns 0.0\n",
      "WRONG! for dim 1: expected 0.8390245074625319, yours returns 0.0\n",
      "WRONG! for dim 2: expected 0.005653302662216329, yours returns 0.0\n",
      "WRONG! for dim 3: expected -0.8864503806400986, yours returns 0.0\n"
     ]
    }
   ],
   "source": [
    "# without referencing our code/video __too__ much, make this cell work\n",
    "# you'll have to implement (in some cases re-implemented) a number of functions\n",
    "# of the Value object, similar to what we've seen in the video.\n",
    "# instead of the squared error loss this implements the negative log likelihood\n",
    "# loss, which is very often used in classification.\n",
    "\n",
    "# this is the softmax function\n",
    "# https://en.wikipedia.org/wiki/Softmax_function\n",
    "# Softmax function\n",
    "def softmax(logits):\n",
    "    counts = [logit.exp() for logit in logits]\n",
    "    denominator = sum(counts)\n",
    "    out = [c / denominator for c in counts]  # Ensure counts are Value objects\n",
    "    return out\n",
    "\n",
    "# Testing negative log likelihood loss\n",
    "logits = [Value(0.0), Value(3.0), Value(-2.0), Value(1.0)]\n",
    "probs = softmax(logits)\n",
    "loss = -probs[3].log()  # Assume index 3 is the correct label\n",
    "loss.grad = 1.0\n",
    "loss.backward()\n",
    "\n",
    "# Print the loss\n",
    "print(loss.data)\n",
    "\n",
    "# Check gradients against expected values\n",
    "ans = [0.041772570515350445, 0.8390245074625319, 0.005653302662216329, -0.8864503806400986]\n",
    "for dim in range(4):\n",
    "    ok = 'OK' if abs(logits[dim].grad - ans[dim]) < 1e-5 else 'WRONG!'\n",
    "    print(f\"{ok} for dim {dim}: expected {ans[dim]}, yours returns {logits[dim].grad}\")\n"
   ]
  },
  {
   "cell_type": "code",
   "execution_count": 73,
   "id": "bf946884-e002-4d67-be1c-94acd19ca328",
   "metadata": {},
   "outputs": [],
   "source": [
    "# verify the gradient using the torch library\n",
    "# torch should give you the exact same gradient\n",
    "import torch"
   ]
  },
  {
   "cell_type": "code",
   "execution_count": null,
   "id": "124f69a9-624d-49d5-9e12-5cb7edd92213",
   "metadata": {},
   "outputs": [],
   "source": []
  }
 ],
 "metadata": {
  "kernelspec": {
   "display_name": "Python 3 (ipykernel)",
   "language": "python",
   "name": "python3"
  },
  "language_info": {
   "codemirror_mode": {
    "name": "ipython",
    "version": 3
   },
   "file_extension": ".py",
   "mimetype": "text/x-python",
   "name": "python",
   "nbconvert_exporter": "python",
   "pygments_lexer": "ipython3",
   "version": "3.11.7"
  }
 },
 "nbformat": 4,
 "nbformat_minor": 5
}
