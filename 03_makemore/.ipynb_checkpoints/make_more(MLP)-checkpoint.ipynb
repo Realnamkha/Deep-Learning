{
 "cells": [
  {
   "cell_type": "code",
   "execution_count": 2,
   "id": "0a923666-7eb1-4aa0-8b44-638707c163dc",
   "metadata": {},
   "outputs": [],
   "source": [
    "import torch\n",
    "import torch.nn.functional as F\n",
    "import matplotlib.pyplot as plt\n",
    "%matplotlib inline"
   ]
  },
  {
   "cell_type": "code",
   "execution_count": 6,
   "id": "ec0a88f3-3287-44cc-93cf-13c8fe1d7891",
   "metadata": {},
   "outputs": [
    {
     "data": {
      "text/plain": [
       "['emma', 'olivia', 'ava', 'isabella', 'sophia', 'charlotte', 'mia', 'amelia']"
      ]
     },
     "execution_count": 6,
     "metadata": {},
     "output_type": "execute_result"
    }
   ],
   "source": [
    "words = open('../names.txt', 'r').read().splitlines()\n",
    "words[:8]"
   ]
  },
  {
   "cell_type": "code",
   "execution_count": 20,
   "id": "f59e5f43-2847-4aef-a6f4-b03f4ee4ea11",
   "metadata": {},
   "outputs": [
    {
     "name": "stdout",
     "output_type": "stream",
     "text": [
      "{1: 'a', 2: 'b', 3: 'c', 4: 'd', 5: 'e', 6: 'f', 7: 'g', 8: 'h', 9: 'i', 10: 'j', 11: 'k', 12: 'l', 13: 'm', 14: 'n', 15: 'o', 16: 'p', 17: 'q', 18: 'r', 19: 's', 20: 't', 21: 'u', 22: 'v', 23: 'w', 24: 'x', 25: 'y', 26: 'z', 0: '.'}\n"
     ]
    }
   ],
   "source": [
    "chars = sorted(list(set(\"\".join(words))))\n",
    "stoi = {s:i+1 for i,s in enumerate(chars)}\n",
    "stoi['.'] = 0\n",
    "itos = {i:s for s,i in stoi.items()}\n",
    "print(itos)"
   ]
  },
  {
   "cell_type": "code",
   "execution_count": 33,
   "id": "6d570f3d-a911-4f89-a1c8-0e4035bfa175",
   "metadata": {},
   "outputs": [],
   "source": [
    "# build the dataset\n",
    "\n",
    "block_size = 3 # context length: how many characters do we take to predict the next one?\n",
    "X, Y = [], []\n",
    "for w in words[:5]:\n",
    "  context = [0] * block_size\n",
    "  for ch in w + '.':\n",
    "    ix = stoi[ch]\n",
    "    X.append(context)\n",
    "    Y.append(ix)\n",
    "    # print(''.join(itos[i] for i in context), '--->', itos[ix])\n",
    "    context = context[1:] + [ix] # crop and append\n",
    "  \n",
    "X = torch.tensor(X)\n",
    "Y = torch.tensor(Y)"
   ]
  },
  {
   "cell_type": "code",
   "execution_count": 34,
   "id": "13ecdb6c-7c3e-4a30-bf79-b939fd4819f4",
   "metadata": {},
   "outputs": [
    {
     "data": {
      "text/plain": [
       "(torch.Size([32, 3]), torch.int64, torch.Size([32]), torch.int64)"
      ]
     },
     "execution_count": 34,
     "metadata": {},
     "output_type": "execute_result"
    }
   ],
   "source": [
    "X.shape, X.dtype, Y.shape, Y.dtype # each input to neural network is 3"
   ]
  },
  {
   "cell_type": "markdown",
   "id": "3a0f8e7a-0cce-4fc6-9ff8-1384847ada8c",
   "metadata": {},
   "source": [
    "### Implementing embedding look up table"
   ]
  },
  {
   "cell_type": "code",
   "execution_count": 24,
   "id": "d12fabf7-ad31-415a-9dde-0a514909da3a",
   "metadata": {},
   "outputs": [],
   "source": [
    "# We try to embbded the 27 characters to a two dimensional space"
   ]
  },
  {
   "cell_type": "code",
   "execution_count": 35,
   "id": "1c0cb94f-ea94-4529-a938-381807c4682b",
   "metadata": {},
   "outputs": [
    {
     "data": {
      "text/plain": [
       "torch.Size([27, 2])"
      ]
     },
     "execution_count": 35,
     "metadata": {},
     "output_type": "execute_result"
    }
   ],
   "source": [
    "C = torch.randn((27,2))\n",
    "C.shape"
   ]
  },
  {
   "cell_type": "code",
   "execution_count": 36,
   "id": "c58f90a0-9f78-492d-b212-a2a47b3125de",
   "metadata": {},
   "outputs": [
    {
     "data": {
      "text/plain": [
       "tensor([-1.5300, -0.4925])"
      ]
     },
     "execution_count": 36,
     "metadata": {},
     "output_type": "execute_result"
    }
   ],
   "source": [
    "C[5]"
   ]
  },
  {
   "cell_type": "code",
   "execution_count": 37,
   "id": "da2311cd-7088-47d5-a3c4-b260c18b52af",
   "metadata": {},
   "outputs": [
    {
     "data": {
      "text/plain": [
       "tensor([-1.5300, -0.4925])"
      ]
     },
     "execution_count": 37,
     "metadata": {},
     "output_type": "execute_result"
    }
   ],
   "source": [
    "F.one_hot(torch.tensor(5),num_classes=27).float() @ C # it just masks the other field except one"
   ]
  },
  {
   "cell_type": "code",
   "execution_count": 40,
   "id": "37470357-f3a6-4507-a20c-d16caec5ca9c",
   "metadata": {},
   "outputs": [
    {
     "data": {
      "text/plain": [
       "tensor([[-1.5300, -0.4925],\n",
       "        [-1.2292,  0.5038],\n",
       "        [ 1.1388, -0.3566],\n",
       "        [ 1.1388, -0.3566],\n",
       "        [ 1.1388, -0.3566],\n",
       "        [ 1.1388, -0.3566]])"
      ]
     },
     "execution_count": 40,
     "metadata": {},
     "output_type": "execute_result"
    }
   ],
   "source": [
    "C[torch.tensor([5,6,7,7,7,7])] # indexing with one-dimensional tensor of integer"
   ]
  },
  {
   "cell_type": "code",
   "execution_count": 42,
   "id": "bb85e4e4-6d1b-4368-894b-864f0904e63f",
   "metadata": {},
   "outputs": [
    {
     "data": {
      "text/plain": [
       "torch.Size([32, 3, 2])"
      ]
     },
     "execution_count": 42,
     "metadata": {},
     "output_type": "execute_result"
    }
   ],
   "source": [
    "C[X].shape # for every X, we have retrived the embedding."
   ]
  },
  {
   "cell_type": "code",
   "execution_count": 44,
   "id": "56cb3e0e-dca2-495c-801e-9f27a03d7065",
   "metadata": {},
   "outputs": [
    {
     "data": {
      "text/plain": [
       "tensor(1)"
      ]
     },
     "execution_count": 44,
     "metadata": {},
     "output_type": "execute_result"
    }
   ],
   "source": [
    "X[13,2]"
   ]
  },
  {
   "cell_type": "code",
   "execution_count": 46,
   "id": "267dabad-bfab-43ac-b641-2204e03e31f4",
   "metadata": {},
   "outputs": [
    {
     "data": {
      "text/plain": [
       "tensor([-0.6042, -0.0488])"
      ]
     },
     "execution_count": 46,
     "metadata": {},
     "output_type": "execute_result"
    }
   ],
   "source": [
    "# C[X][13,2] == C[1]"
   ]
  },
  {
   "cell_type": "code",
   "execution_count": 48,
   "id": "cc3c95c7-2c04-4d1a-9114-47e54b033b75",
   "metadata": {},
   "outputs": [
    {
     "data": {
      "text/plain": [
       "torch.Size([32, 3, 2])"
      ]
     },
     "execution_count": 48,
     "metadata": {},
     "output_type": "execute_result"
    }
   ],
   "source": [
    "emb = C[X]\n",
    "emb.shape"
   ]
  },
  {
   "cell_type": "markdown",
   "id": "3c8d14dd-c928-493a-9928-dd836a94a337",
   "metadata": {},
   "source": [
    "### Implementing the hidden layer"
   ]
  },
  {
   "cell_type": "code",
   "execution_count": 50,
   "id": "acde2cd7-c131-46ec-9d18-89f8a9f475ea",
   "metadata": {},
   "outputs": [],
   "source": [
    "w1 = torch.randn((6,100)) # no of inputs = 3*2 as we have 2-d embedding and we have 3 of them(100 nuerons initliaze)\n",
    "b1 = torch.randn(100)"
   ]
  },
  {
   "cell_type": "code",
   "execution_count": 52,
   "id": "a604e196-181c-4957-aa4e-0b6375b63046",
   "metadata": {},
   "outputs": [
    {
     "data": {
      "text/plain": [
       "torch.Size([6, 100])"
      ]
     },
     "execution_count": 52,
     "metadata": {},
     "output_type": "execute_result"
    }
   ],
   "source": [
    "w1.shape"
   ]
  },
  {
   "cell_type": "code",
   "execution_count": 53,
   "id": "3d4fb3d0-a639-4711-b316-1760d5f24df9",
   "metadata": {},
   "outputs": [],
   "source": [
    "#emb @ w1 + b1 # (32,3,2) @ (6,100)"
   ]
  },
  {
   "cell_type": "code",
   "execution_count": null,
   "id": "c8bb09f3-40d9-4306-a765-b66a4cb2d463",
   "metadata": {},
   "outputs": [],
   "source": []
  },
  {
   "cell_type": "markdown",
   "id": "633aa1fe-4119-409c-8bcf-326aa195a411",
   "metadata": {},
   "source": [
    "- emb[:,0,:] : It selects along all the samples, 0 selects only the first embeddings and : selects across all the first embedding"
   ]
  },
  {
   "cell_type": "code",
   "execution_count": 67,
   "id": "1f7ac0cb-ee09-481b-b74f-3de3a15b1838",
   "metadata": {},
   "outputs": [
    {
     "data": {
      "text/plain": [
       "torch.Size([32, 6])"
      ]
     },
     "execution_count": 67,
     "metadata": {},
     "output_type": "execute_result"
    }
   ],
   "source": [
    "torch.cat([emb[:,0,:],emb[:,1,:],emb[:,2,:]],1).shape # not generalized"
   ]
  },
  {
   "cell_type": "code",
   "execution_count": 70,
   "id": "d03c6c00-a7d2-4b89-9f93-8ca8faa48144",
   "metadata": {},
   "outputs": [
    {
     "data": {
      "text/plain": [
       "torch.Size([32, 6])"
      ]
     },
     "execution_count": 70,
     "metadata": {},
     "output_type": "execute_result"
    }
   ],
   "source": [
    "torch.cat(torch.unbind(emb,1),1).shape"
   ]
  },
  {
   "cell_type": "code",
   "execution_count": 71,
   "id": "ed55d94b-832b-4ea8-a2b9-684298c68cf9",
   "metadata": {},
   "outputs": [
    {
     "data": {
      "text/plain": [
       "torch.Size([18])"
      ]
     },
     "execution_count": 71,
     "metadata": {},
     "output_type": "execute_result"
    }
   ],
   "source": [
    "a = torch.arange(18)\n",
    "a.shape"
   ]
  },
  {
   "cell_type": "code",
   "execution_count": 73,
   "id": "6b3c635c-f1bd-44a8-b26f-74095f28e456",
   "metadata": {},
   "outputs": [
    {
     "data": {
      "text/plain": [
       "tensor([[ 0,  1],\n",
       "        [ 2,  3],\n",
       "        [ 4,  5],\n",
       "        [ 6,  7],\n",
       "        [ 8,  9],\n",
       "        [10, 11],\n",
       "        [12, 13],\n",
       "        [14, 15],\n",
       "        [16, 17]])"
      ]
     },
     "execution_count": 73,
     "metadata": {},
     "output_type": "execute_result"
    }
   ],
   "source": [
    "a.view(9,2) # as long as total number of elements multiplies to be same,it works"
   ]
  },
  {
   "cell_type": "code",
   "execution_count": 76,
   "id": "1edd2994-bf8a-4744-bc6e-d89f1b84a22f",
   "metadata": {},
   "outputs": [
    {
     "data": {
      "text/plain": [
       "<bound method Tensor.storage of tensor([ 0,  1,  2,  3,  4,  5,  6,  7,  8,  9, 10, 11, 12, 13, 14, 15, 16, 17])>"
      ]
     },
     "execution_count": 76,
     "metadata": {},
     "output_type": "execute_result"
    }
   ],
   "source": [
    "a.storage # tensor is always represented as 1d in memory"
   ]
  },
  {
   "cell_type": "code",
   "execution_count": 77,
   "id": "9f7b6b57-fcc3-42fe-8dcb-9ad9b77a56ac",
   "metadata": {},
   "outputs": [
    {
     "data": {
      "text/plain": [
       "torch.Size([32, 3, 2])"
      ]
     },
     "execution_count": 77,
     "metadata": {},
     "output_type": "execute_result"
    }
   ],
   "source": [
    "emb.shape"
   ]
  },
  {
   "cell_type": "code",
   "execution_count": 78,
   "id": "245ebbdf-8e6e-44a4-a71f-9b96a310f8e5",
   "metadata": {},
   "outputs": [
    {
     "data": {
      "text/plain": [
       "tensor([[ 2.0137,  0.4006,  2.0137,  0.4006,  2.0137,  0.4006],\n",
       "        [ 2.0137,  0.4006,  2.0137,  0.4006, -1.5300, -0.4925],\n",
       "        [ 2.0137,  0.4006, -1.5300, -0.4925,  1.3456,  2.5344],\n",
       "        [-1.5300, -0.4925,  1.3456,  2.5344,  1.3456,  2.5344],\n",
       "        [ 1.3456,  2.5344,  1.3456,  2.5344, -0.6042, -0.0488],\n",
       "        [ 2.0137,  0.4006,  2.0137,  0.4006,  2.0137,  0.4006],\n",
       "        [ 2.0137,  0.4006,  2.0137,  0.4006,  0.5484, -0.6178],\n",
       "        [ 2.0137,  0.4006,  0.5484, -0.6178, -2.3037,  0.4911],\n",
       "        [ 0.5484, -0.6178, -2.3037,  0.4911,  0.7966,  1.6419],\n",
       "        [-2.3037,  0.4911,  0.7966,  1.6419,  0.6448,  0.7174],\n",
       "        [ 0.7966,  1.6419,  0.6448,  0.7174,  0.7966,  1.6419],\n",
       "        [ 0.6448,  0.7174,  0.7966,  1.6419, -0.6042, -0.0488],\n",
       "        [ 2.0137,  0.4006,  2.0137,  0.4006,  2.0137,  0.4006],\n",
       "        [ 2.0137,  0.4006,  2.0137,  0.4006, -0.6042, -0.0488],\n",
       "        [ 2.0137,  0.4006, -0.6042, -0.0488,  0.6448,  0.7174],\n",
       "        [-0.6042, -0.0488,  0.6448,  0.7174, -0.6042, -0.0488],\n",
       "        [ 2.0137,  0.4006,  2.0137,  0.4006,  2.0137,  0.4006],\n",
       "        [ 2.0137,  0.4006,  2.0137,  0.4006,  0.7966,  1.6419],\n",
       "        [ 2.0137,  0.4006,  0.7966,  1.6419,  0.5887,  0.7913],\n",
       "        [ 0.7966,  1.6419,  0.5887,  0.7913, -0.6042, -0.0488],\n",
       "        [ 0.5887,  0.7913, -0.6042, -0.0488,  0.3129,  0.2892],\n",
       "        [-0.6042, -0.0488,  0.3129,  0.2892, -1.5300, -0.4925],\n",
       "        [ 0.3129,  0.2892, -1.5300, -0.4925, -2.3037,  0.4911],\n",
       "        [-1.5300, -0.4925, -2.3037,  0.4911, -2.3037,  0.4911],\n",
       "        [-2.3037,  0.4911, -2.3037,  0.4911, -0.6042, -0.0488],\n",
       "        [ 2.0137,  0.4006,  2.0137,  0.4006,  2.0137,  0.4006],\n",
       "        [ 2.0137,  0.4006,  2.0137,  0.4006,  0.5887,  0.7913],\n",
       "        [ 2.0137,  0.4006,  0.5887,  0.7913,  0.5484, -0.6178],\n",
       "        [ 0.5887,  0.7913,  0.5484, -0.6178, -1.9526,  0.9666],\n",
       "        [ 0.5484, -0.6178, -1.9526,  0.9666,  1.6466,  2.2026],\n",
       "        [-1.9526,  0.9666,  1.6466,  2.2026,  0.7966,  1.6419],\n",
       "        [ 1.6466,  2.2026,  0.7966,  1.6419, -0.6042, -0.0488]])"
      ]
     },
     "execution_count": 78,
     "metadata": {},
     "output_type": "execute_result"
    }
   ],
   "source": [
    "emb.view(32,6)"
   ]
  },
  {
   "cell_type": "code",
   "execution_count": 85,
   "id": "d2a55ce5-caca-4851-8140-33408342b342",
   "metadata": {},
   "outputs": [],
   "source": [
    "h = torch.tanh(emb.view(-1,6) @ w1 + b1)"
   ]
  },
  {
   "cell_type": "code",
   "execution_count": 86,
   "id": "d6f200b8-cd31-4563-9a8a-a16f9dc057df",
   "metadata": {},
   "outputs": [
    {
     "data": {
      "text/plain": [
       "torch.Size([32, 100])"
      ]
     },
     "execution_count": 86,
     "metadata": {},
     "output_type": "execute_result"
    }
   ],
   "source": [
    "h.shape"
   ]
  },
  {
   "cell_type": "code",
   "execution_count": 87,
   "id": "db4e5bb2-d08d-4123-855c-8fc90cfa4f89",
   "metadata": {},
   "outputs": [
    {
     "data": {
      "text/plain": [
       "tensor([[-0.7359,  0.8942, -0.9589,  ..., -1.0000,  0.9999,  0.9941],\n",
       "        [ 0.9979,  0.9522, -0.6011,  ..., -0.9961,  1.0000,  0.8102],\n",
       "        [-0.9988, -0.9836,  0.5567,  ..., -0.9992,  0.9727,  0.9850],\n",
       "        ...,\n",
       "        [-1.0000, -0.2794, -0.9850,  ..., -0.9980, -0.7468, -0.8928],\n",
       "        [-0.9963,  1.0000, -1.0000,  ...,  0.7268, -0.9226, -0.9751],\n",
       "        [ 0.9647,  0.1413, -0.8425,  ..., -0.9971,  1.0000,  0.9834]])"
      ]
     },
     "execution_count": 87,
     "metadata": {},
     "output_type": "execute_result"
    }
   ],
   "source": [
    "h"
   ]
  },
  {
   "cell_type": "markdown",
   "id": "af4d9b4d-8734-42a6-adc6-a8a30ad3cbd1",
   "metadata": {},
   "source": [
    "### Implementing the output layer"
   ]
  },
  {
   "cell_type": "code",
   "execution_count": 89,
   "id": "a4c473e7-6e8f-4d63-b1ac-ba9e491c91ed",
   "metadata": {},
   "outputs": [],
   "source": [
    "w2 = torch.randn((100,27))\n",
    "b2 = torch.randn(27)"
   ]
  },
  {
   "cell_type": "markdown",
   "id": "9ee684fd-a586-4c56-8de3-9c8de975596f",
   "metadata": {},
   "source": [
    "### Implementing negative log likelihood"
   ]
  },
  {
   "cell_type": "code",
   "execution_count": 93,
   "id": "cd2e3540-fe1f-43f5-8a64-10cf907cf1a2",
   "metadata": {},
   "outputs": [
    {
     "data": {
      "text/plain": [
       "torch.Size([32, 27])"
      ]
     },
     "execution_count": 93,
     "metadata": {},
     "output_type": "execute_result"
    }
   ],
   "source": [
    "logits = h @ w2\n",
    "logits.shape"
   ]
  },
  {
   "cell_type": "code",
   "execution_count": 96,
   "id": "aa5faf80-b224-42ef-bb76-b90a3fb42380",
   "metadata": {},
   "outputs": [
    {
     "data": {
      "text/plain": [
       "tensor([[2.1387e-07, 2.9891e-06, 5.1301e-02, 2.6671e-06, 6.2228e-02, 4.6337e+01,\n",
       "         1.2804e+00, 2.0264e-04, 7.5968e+04, 4.1393e-07, 4.4984e-06, 4.2773e+00,\n",
       "         4.2082e+00, 1.1780e+07, 2.0331e+03, 3.4912e+02, 4.2228e+02, 3.7973e-10,\n",
       "         1.2671e+00, 1.3128e+01, 7.0674e+04, 1.0002e+02, 6.7173e-06, 2.0433e-03,\n",
       "         1.3051e-04, 1.5830e+00, 6.4485e-10],\n",
       "        [3.0033e-01, 1.6264e-01, 1.6017e+01, 2.3802e-03, 3.4270e-03, 2.7046e-05,\n",
       "         5.5357e+02, 9.5114e-02, 2.4107e+06, 1.4675e-04, 1.8604e-04, 1.4829e+04,\n",
       "         1.4559e-03, 2.0066e+05, 5.1080e+02, 5.4738e-02, 2.2683e+03, 3.3991e-06,\n",
       "         4.2263e-09, 4.8864e+05, 7.1900e+01, 1.0602e+04, 1.4767e-08, 1.4490e+02,\n",
       "         1.4978e-02, 5.7936e+00, 2.5570e+04],\n",
       "        [3.7206e-02, 8.8144e-09, 7.0131e-01, 7.4201e-09, 1.0269e-10, 1.6888e+03,\n",
       "         2.7081e+01, 9.0253e-03, 6.6574e+01, 6.6991e-01, 3.9530e-06, 1.5852e+04,\n",
       "         8.7460e+03, 7.6566e-04, 2.5354e+04, 1.8825e+01, 1.0847e+01, 1.9868e+00,\n",
       "         1.8812e-01, 6.0300e-01, 1.4582e+05, 4.4184e+03, 4.6183e-01, 3.5475e-01,\n",
       "         3.3521e-04, 1.2379e-07, 4.8973e-08],\n",
       "        [1.7750e+02, 2.9255e-04, 1.3836e+04, 1.3283e+01, 8.3492e+05, 3.8966e+00,\n",
       "         7.7745e-06, 1.9285e-01, 6.7888e+00, 7.2002e-05, 3.6964e-05, 9.0318e-04,\n",
       "         5.8925e+02, 6.1790e+02, 5.8865e+01, 3.7701e-01, 3.0916e-07, 4.0620e-06,\n",
       "         2.2402e+02, 2.0279e-03, 8.3282e-01, 8.8800e+03, 1.2354e+05, 6.5823e-02,\n",
       "         7.3530e+02, 7.9906e+04, 3.1762e-04],\n",
       "        [1.0546e+01, 7.9148e-01, 6.2440e+03, 3.3775e+02, 1.4901e+01, 9.0614e-03,\n",
       "         9.5596e-02, 2.5131e-03, 3.5131e+03, 8.5536e-05, 4.8088e-06, 1.1120e+05,\n",
       "         5.8344e-05, 8.3633e+07, 6.2110e+00, 3.9069e+05, 1.9427e-05, 1.7932e-07,\n",
       "         2.8136e-04, 6.3543e+03, 8.0585e+07, 2.2606e+02, 2.5405e-03, 1.8665e+00,\n",
       "         1.0772e+00, 1.3832e+01, 1.1062e+03],\n",
       "        [2.1387e-07, 2.9891e-06, 5.1301e-02, 2.6671e-06, 6.2228e-02, 4.6337e+01,\n",
       "         1.2804e+00, 2.0264e-04, 7.5968e+04, 4.1393e-07, 4.4984e-06, 4.2773e+00,\n",
       "         4.2082e+00, 1.1780e+07, 2.0331e+03, 3.4912e+02, 4.2228e+02, 3.7973e-10,\n",
       "         1.2671e+00, 1.3128e+01, 7.0674e+04, 1.0002e+02, 6.7173e-06, 2.0433e-03,\n",
       "         1.3051e-04, 1.5830e+00, 6.4485e-10],\n",
       "        [3.6666e-03, 1.3703e-01, 8.6950e+00, 2.5596e-07, 5.3585e-01, 1.6434e-01,\n",
       "         3.9403e+00, 3.7600e-02, 4.2597e+09, 9.8771e-05, 6.4780e-04, 1.0034e+00,\n",
       "         3.4551e-01, 1.2784e+06, 9.4901e+03, 4.9182e-01, 2.1878e+05, 1.2868e-09,\n",
       "         2.4257e-06, 5.2911e+02, 8.9063e+02, 1.2232e+05, 3.9370e-11, 2.2154e+01,\n",
       "         3.8075e-05, 8.8625e+02, 4.9766e-05],\n",
       "        [1.0534e+03, 2.4898e-01, 1.3454e+02, 1.4065e-02, 7.3976e-07, 1.8994e-06,\n",
       "         1.1554e+06, 3.4080e+00, 2.3296e+03, 3.1636e-06, 3.3064e-01, 1.7544e+06,\n",
       "         1.6470e+01, 2.5623e-01, 5.3266e+06, 5.1242e-01, 2.8575e+10, 1.0949e-02,\n",
       "         7.8536e-07, 6.2817e+05, 6.9570e-02, 6.4751e+02, 8.0084e-07, 2.3346e+04,\n",
       "         7.8183e-03, 3.4227e-03, 1.7033e+11],\n",
       "        [1.9936e+01, 5.2581e-04, 5.2971e+00, 1.4160e+04, 9.3727e-05, 8.4034e-01,\n",
       "         3.8352e-03, 4.2959e+00, 1.9071e+01, 1.2176e+01, 2.2792e-02, 1.2557e+00,\n",
       "         2.6704e+02, 3.4796e-06, 2.3854e+05, 1.6382e+02, 2.5314e-01, 4.6119e+01,\n",
       "         1.9281e+07, 3.0011e+03, 3.4816e+00, 9.5839e+03, 2.2424e+02, 3.2085e+01,\n",
       "         2.5731e+03, 3.6051e-02, 1.0515e+04],\n",
       "        [1.5357e+02, 1.0521e+01, 1.7654e+04, 1.2109e+07, 7.5169e+05, 3.8320e+00,\n",
       "         1.9771e-04, 4.3001e+05, 4.6818e+00, 1.7413e+00, 8.5287e-01, 8.2283e-05,\n",
       "         1.3221e-01, 2.1097e-01, 4.1566e+03, 9.3506e+02, 6.5524e-07, 5.4980e-01,\n",
       "         4.5440e+01, 1.2458e-05, 1.2066e-01, 2.4158e+02, 1.2706e+09, 8.1536e-01,\n",
       "         1.4619e+03, 2.0177e+02, 1.7470e-02],\n",
       "        [3.8754e-03, 6.2599e-09, 1.9210e+01, 3.7595e-01, 1.4565e-03, 1.2531e-01,\n",
       "         1.2369e-01, 3.6215e-04, 6.2703e+01, 2.3655e-05, 1.9490e-02, 2.4948e+04,\n",
       "         5.9049e+04, 4.0800e+05, 9.6549e+03, 1.7266e+04, 9.8507e-05, 9.4586e-10,\n",
       "         9.3298e+00, 2.1664e+01, 6.5052e+04, 4.3709e+04, 1.3452e+01, 5.6027e-04,\n",
       "         2.5536e-06, 1.1955e-03, 5.3144e-05],\n",
       "        [1.7600e+01, 2.6312e-01, 1.3181e+03, 4.4117e+03, 2.8196e+02, 9.2697e-02,\n",
       "         3.3814e+00, 4.7735e-01, 8.0368e+05, 3.1254e-03, 2.0838e-02, 8.4683e+03,\n",
       "         1.1732e-04, 8.4755e+07, 2.5182e+02, 5.3976e+02, 1.7588e-05, 1.9525e-08,\n",
       "         7.1830e-05, 2.7831e+04, 3.1232e+02, 2.9832e+02, 3.9867e-01, 1.2954e+02,\n",
       "         1.3700e+02, 2.0861e+02, 2.7169e+05],\n",
       "        [2.1387e-07, 2.9891e-06, 5.1301e-02, 2.6671e-06, 6.2228e-02, 4.6337e+01,\n",
       "         1.2804e+00, 2.0264e-04, 7.5968e+04, 4.1393e-07, 4.4984e-06, 4.2773e+00,\n",
       "         4.2082e+00, 1.1780e+07, 2.0331e+03, 3.4912e+02, 4.2228e+02, 3.7973e-10,\n",
       "         1.2671e+00, 1.3128e+01, 7.0674e+04, 1.0002e+02, 6.7173e-06, 2.0433e-03,\n",
       "         1.3051e-04, 1.5830e+00, 6.4485e-10],\n",
       "        [1.8244e+00, 1.5137e-02, 1.1317e+02, 2.3706e-05, 3.4967e+00, 3.8357e-03,\n",
       "         3.1042e+01, 1.6003e-02, 2.2802e+09, 9.0632e-07, 1.0901e-03, 3.0217e+04,\n",
       "         2.8455e-02, 6.1339e+05, 4.0724e+02, 8.6623e-02, 3.4349e+04, 4.7382e-07,\n",
       "         3.6180e-07, 1.3374e+03, 7.7120e+01, 4.0694e+06, 1.4985e-10, 2.8933e+01,\n",
       "         3.8462e-04, 1.1255e+01, 1.7447e+02],\n",
       "        [2.4774e-01, 5.9406e-07, 5.7001e+00, 1.7397e-07, 2.3064e-09, 4.7896e+02,\n",
       "         5.0862e+02, 9.1423e-04, 2.2334e+05, 2.7427e-02, 8.8789e-04, 1.6958e+02,\n",
       "         4.2056e+02, 2.7793e-01, 8.3752e+05, 2.7827e+01, 7.3262e+03, 9.7814e-07,\n",
       "         1.0086e+01, 1.3385e+01, 2.4744e+04, 1.1099e+05, 1.2305e-06, 2.5003e-03,\n",
       "         6.5733e-06, 1.5478e-05, 2.0874e+01],\n",
       "        [7.4012e+02, 4.7783e+00, 1.5875e+01, 1.3941e+07, 7.5689e+03, 1.3798e+00,\n",
       "         3.3339e-02, 2.8718e+04, 4.2627e+06, 5.6031e-01, 1.5952e+01, 5.4429e-01,\n",
       "         1.9744e-03, 8.1768e+01, 2.9521e+06, 5.7522e+00, 8.3455e+00, 4.1799e-04,\n",
       "         4.1930e-02, 1.7883e-02, 4.8841e-02, 2.4417e+00, 1.0728e+03, 6.5508e+00,\n",
       "         3.5225e+03, 7.6549e+04, 7.8120e+03],\n",
       "        [2.1387e-07, 2.9891e-06, 5.1301e-02, 2.6671e-06, 6.2228e-02, 4.6337e+01,\n",
       "         1.2804e+00, 2.0264e-04, 7.5968e+04, 4.1393e-07, 4.4984e-06, 4.2773e+00,\n",
       "         4.2082e+00, 1.1780e+07, 2.0331e+03, 3.4912e+02, 4.2228e+02, 3.7973e-10,\n",
       "         1.2671e+00, 1.3128e+01, 7.0674e+04, 1.0002e+02, 6.7173e-06, 2.0433e-03,\n",
       "         1.3051e-04, 1.5830e+00, 6.4485e-10],\n",
       "        [3.2752e-03, 2.9423e-09, 1.0431e-01, 8.5275e-05, 3.9869e-03, 1.8202e-01,\n",
       "         9.8633e-01, 2.5088e-02, 1.9142e+06, 4.4730e-07, 3.9965e-03, 2.9450e+03,\n",
       "         2.2978e+03, 3.4970e+07, 2.1180e+05, 7.1855e+00, 1.2664e+04, 6.7165e-09,\n",
       "         4.7569e-03, 1.9325e+01, 6.9808e+03, 1.4765e+03, 1.5040e-06, 3.9975e-03,\n",
       "         1.8362e-05, 8.1831e-03, 7.0619e-07],\n",
       "        [2.5877e-03, 7.3927e-04, 3.6543e+02, 1.5779e+00, 2.3321e-01, 2.0852e+00,\n",
       "         6.7056e+02, 7.3169e-05, 1.3466e+07, 1.1059e-05, 1.0541e-01, 1.4756e+03,\n",
       "         1.0128e+00, 2.1611e+04, 3.2353e+03, 4.5946e+01, 1.4724e-03, 1.1506e-10,\n",
       "         2.3176e-01, 5.2142e+03, 2.1698e+04, 5.0822e+05, 3.3430e-06, 3.6099e-03,\n",
       "         6.9070e-02, 1.3213e+00, 9.7357e+03],\n",
       "        [8.1059e+00, 1.4799e-02, 1.3753e+02, 2.2654e-01, 7.9907e-03, 3.7189e-02,\n",
       "         1.2596e+03, 8.3363e-01, 7.8830e+04, 9.0170e-06, 8.4215e-04, 1.8752e+03,\n",
       "         9.9420e-04, 5.4858e+07, 1.8101e+02, 1.0081e+05, 5.4675e-02, 1.7186e-06,\n",
       "         1.5143e-05, 8.8038e+00, 5.6229e+05, 8.6772e+02, 8.8611e-04, 7.9490e+01,\n",
       "         1.6277e-01, 1.0194e-02, 1.3734e+02],\n",
       "        [1.5582e+00, 8.6557e-06, 9.3909e-01, 7.8775e-03, 2.0315e-06, 4.6979e+00,\n",
       "         3.7562e+01, 3.9295e-03, 5.1658e+03, 1.2296e+00, 1.2672e-02, 6.0495e-01,\n",
       "         2.1066e+03, 9.1128e-02, 8.6395e+05, 1.4034e+04, 6.9384e+01, 3.9645e-03,\n",
       "         8.7116e+02, 1.0650e-01, 4.0890e+04, 6.0068e+06, 4.5291e-02, 1.5820e+00,\n",
       "         3.6187e-05, 2.3207e-05, 2.0393e+00],\n",
       "        [1.5726e+02, 6.4124e+00, 6.8906e-02, 2.1466e+07, 3.2522e+02, 1.9191e-06,\n",
       "         4.8746e+00, 2.2511e+02, 4.1520e+04, 8.0857e+03, 3.6874e+00, 1.7893e-02,\n",
       "         5.0695e-03, 1.2127e+02, 3.1389e+04, 5.7127e-03, 1.4536e+02, 1.2667e+01,\n",
       "         1.7435e-03, 7.1400e+00, 2.7158e-04, 1.0670e-02, 1.0315e+04, 3.3685e+02,\n",
       "         4.3758e+01, 5.1812e+04, 8.8043e+05],\n",
       "        [6.0880e+05, 2.2372e-04, 5.4463e-01, 1.5980e+02, 1.0300e-05, 6.0198e-04,\n",
       "         6.0247e+00, 6.9063e+03, 1.9722e+02, 1.0580e+05, 1.4033e+03, 4.8477e+02,\n",
       "         2.9141e+00, 6.8376e-03, 9.3171e+03, 5.6229e-04, 9.1460e+08, 1.4121e+04,\n",
       "         2.2923e-03, 3.6900e+00, 2.7933e-02, 1.0872e+02, 6.6599e-01, 1.1807e+06,\n",
       "         1.1998e+00, 1.9173e-02, 7.7074e+09],\n",
       "        [3.2956e+06, 4.0793e-01, 1.1850e-02, 4.4396e+12, 5.3450e+00, 2.0628e-04,\n",
       "         3.9235e-02, 2.7952e+04, 7.6154e+03, 2.6503e+08, 2.7233e+08, 2.1758e-01,\n",
       "         1.0266e-02, 2.9903e-02, 2.6491e+03, 1.5535e-04, 1.6534e+01, 4.0219e+03,\n",
       "         6.8087e+00, 6.2944e-02, 1.2839e-06, 5.4675e+00, 3.4748e+04, 1.7626e+00,\n",
       "         1.5832e+03, 5.6751e-02, 1.7038e+11],\n",
       "        [1.9717e+04, 3.3812e+02, 2.2584e-02, 1.0944e+10, 6.2592e+00, 1.2178e+00,\n",
       "         2.5774e-03, 5.1717e+03, 1.6702e+00, 2.8305e+07, 1.3644e+04, 1.3626e-04,\n",
       "         8.7904e-03, 8.9769e-06, 1.4505e+01, 7.8935e+01, 3.5140e-05, 1.2522e+06,\n",
       "         2.9476e+05, 1.0833e-03, 4.0399e-03, 8.2997e-02, 1.4323e+12, 1.7171e-01,\n",
       "         2.9156e+03, 1.5499e+01, 1.2087e+05],\n",
       "        [2.1387e-07, 2.9891e-06, 5.1301e-02, 2.6671e-06, 6.2228e-02, 4.6337e+01,\n",
       "         1.2804e+00, 2.0264e-04, 7.5968e+04, 4.1393e-07, 4.4984e-06, 4.2773e+00,\n",
       "         4.2082e+00, 1.1780e+07, 2.0331e+03, 3.4912e+02, 4.2228e+02, 3.7973e-10,\n",
       "         1.2671e+00, 1.3128e+01, 7.0674e+04, 1.0002e+02, 6.7173e-06, 2.0433e-03,\n",
       "         1.3051e-04, 1.5830e+00, 6.4485e-10],\n",
       "        [8.6087e-03, 1.0928e-06, 1.3131e+00, 8.1003e-07, 7.5473e-02, 1.3575e-01,\n",
       "         3.8249e+00, 5.0722e-02, 2.5525e+08, 2.8972e-06, 3.8920e-03, 5.2890e+02,\n",
       "         4.5366e+01, 5.9693e+07, 1.3076e+04, 9.7230e+00, 1.1019e+05, 1.2677e-08,\n",
       "         1.8318e-04, 4.4818e+01, 1.2826e+03, 8.1526e+03, 5.6542e-09, 3.4781e-01,\n",
       "         8.9322e-06, 7.9552e-02, 2.9870e-05],\n",
       "        [1.0614e-04, 1.1624e+00, 6.4334e+03, 4.5022e-03, 7.4119e-02, 3.7327e-01,\n",
       "         1.0925e+05, 1.5130e-01, 2.8082e+06, 1.5107e-04, 4.0762e-02, 5.9083e+00,\n",
       "         1.5467e-02, 5.0372e+03, 7.7025e+03, 5.7337e+01, 2.1107e+00, 1.7846e-08,\n",
       "         3.9484e-03, 1.8523e+03, 6.9775e+03, 3.8460e+05, 1.0202e-09, 8.3446e+01,\n",
       "         4.3991e-03, 3.2603e+00, 2.0831e+01],\n",
       "        [2.9680e+04, 5.3789e-03, 6.7844e+00, 1.0982e-04, 4.0122e-05, 1.8465e-05,\n",
       "         2.1975e+04, 1.8852e+01, 2.6353e+02, 1.3315e-05, 3.3392e-03, 3.1137e+04,\n",
       "         2.4846e+03, 6.0252e+00, 5.2374e+06, 1.2813e+00, 3.6754e+10, 1.7182e+00,\n",
       "         7.6413e-07, 1.9695e+00, 4.4227e+00, 2.2080e+01, 2.6571e-02, 6.3145e+04,\n",
       "         1.1598e-03, 3.4871e-02, 1.1730e+09],\n",
       "        [9.3258e-01, 1.0782e-05, 8.5311e+00, 1.0145e+03, 6.3867e-05, 7.4992e-01,\n",
       "         5.9445e-04, 1.0916e-01, 5.8484e-01, 1.3710e-01, 3.1137e-04, 4.0445e+00,\n",
       "         9.0583e+03, 5.4243e-04, 1.9047e+05, 8.1570e+01, 2.5597e-02, 1.3123e+00,\n",
       "         1.4630e+08, 2.2556e+03, 2.0281e+00, 7.0622e+03, 2.2039e+04, 4.8958e+00,\n",
       "         2.1672e+02, 1.3242e-02, 5.0621e+02],\n",
       "        [2.0862e+02, 3.7894e-02, 1.2489e+04, 1.6562e+00, 1.8718e+06, 8.4211e+00,\n",
       "         5.5626e-03, 6.1099e+01, 9.4896e+02, 1.7312e-06, 3.5568e-05, 1.1064e-02,\n",
       "         1.3788e+01, 2.5300e+05, 3.1470e+05, 1.1279e+02, 1.0655e-07, 1.3574e-06,\n",
       "         1.6173e+01, 2.1137e-04, 1.7841e+01, 3.3984e+04, 1.3934e+06, 9.9447e+00,\n",
       "         7.1291e+02, 1.2383e+01, 8.4872e-03],\n",
       "        [2.0120e+00, 5.6770e-02, 1.0919e+04, 5.8376e-02, 4.7913e-02, 7.3692e-02,\n",
       "         7.5545e+02, 7.1618e-02, 8.9219e+03, 3.6420e-06, 8.2956e-05, 5.9791e+04,\n",
       "         2.6742e-05, 6.6188e+07, 8.4730e-01, 2.0303e+04, 9.0865e-04, 8.4966e-08,\n",
       "         3.7265e-05, 5.4394e+03, 2.6200e+06, 7.3687e+02, 3.8336e-04, 8.6993e-02,\n",
       "         3.2763e+00, 1.7595e-02, 2.2562e+04]])"
      ]
     },
     "execution_count": 96,
     "metadata": {},
     "output_type": "execute_result"
    }
   ],
   "source": [
    "counts = logits.exp()\n",
    "counts"
   ]
  },
  {
   "cell_type": "code",
   "execution_count": 97,
   "id": "5e54427a-2cea-4541-9514-810394cc8599",
   "metadata": {},
   "outputs": [],
   "source": [
    "prob = counts/counts.sum(1,keepdim=True)"
   ]
  },
  {
   "cell_type": "code",
   "execution_count": 98,
   "id": "0537c7db-25fe-492a-94e4-4bfb65865d22",
   "metadata": {},
   "outputs": [
    {
     "data": {
      "text/plain": [
       "torch.Size([32, 27])"
      ]
     },
     "execution_count": 98,
     "metadata": {},
     "output_type": "execute_result"
    }
   ],
   "source": [
    "prob.shape"
   ]
  },
  {
   "cell_type": "code",
   "execution_count": 103,
   "id": "45e7fb55-cf38-4dce-b8f3-fc0d81864761",
   "metadata": {},
   "outputs": [
    {
     "data": {
      "text/plain": [
       "tensor(1.0000)"
      ]
     },
     "execution_count": 103,
     "metadata": {},
     "output_type": "execute_result"
    }
   ],
   "source": [
    "prob[0].sum()"
   ]
  },
  {
   "cell_type": "code",
   "execution_count": 107,
   "id": "c793be86-b08a-4c2b-a310-1b2ca301d12b",
   "metadata": {},
   "outputs": [
    {
     "data": {
      "text/plain": [
       "tensor(20.1827)"
      ]
     },
     "execution_count": 107,
     "metadata": {},
     "output_type": "execute_result"
    }
   ],
   "source": [
    "loss = - prob[torch.arange(32),Y].log().mean()\n",
    "loss"
   ]
  },
  {
   "cell_type": "code",
   "execution_count": 105,
   "id": "8655e9ec-062b-4bfe-b639-ad6fd76a5ed6",
   "metadata": {},
   "outputs": [
    {
     "data": {
      "text/plain": [
       "tensor([ 0,  1,  2,  3,  4,  5,  6,  7,  8,  9, 10, 11, 12, 13, 14, 15, 16, 17,\n",
       "        18, 19, 20, 21, 22, 23, 24, 25, 26, 27, 28, 29, 30, 31])"
      ]
     },
     "execution_count": 105,
     "metadata": {},
     "output_type": "execute_result"
    }
   ],
   "source": [
    "torch.arange(32)"
   ]
  },
  {
   "cell_type": "code",
   "execution_count": 104,
   "id": "edbb7c99-06f2-4984-beaf-b5eadfe7d961",
   "metadata": {},
   "outputs": [
    {
     "data": {
      "text/plain": [
       "tensor([ 5, 13, 13,  1,  0, 15, 12,  9, 22,  9,  1,  0,  1, 22,  1,  0,  9, 19,\n",
       "         1,  2,  5, 12, 12,  1,  0, 19, 15, 16,  8,  9,  1,  0])"
      ]
     },
     "execution_count": 104,
     "metadata": {},
     "output_type": "execute_result"
    }
   ],
   "source": [
    "Y"
   ]
  },
  {
   "cell_type": "code",
   "execution_count": null,
   "id": "367a4acf-dcd9-4cfb-b867-fe406e214bd4",
   "metadata": {},
   "outputs": [],
   "source": []
  }
 ],
 "metadata": {
  "kernelspec": {
   "display_name": "Python 3 (ipykernel)",
   "language": "python",
   "name": "python3"
  },
  "language_info": {
   "codemirror_mode": {
    "name": "ipython",
    "version": 3
   },
   "file_extension": ".py",
   "mimetype": "text/x-python",
   "name": "python",
   "nbconvert_exporter": "python",
   "pygments_lexer": "ipython3",
   "version": "3.11.7"
  }
 },
 "nbformat": 4,
 "nbformat_minor": 5
}
